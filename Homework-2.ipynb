{
  "cells": [
    {
      "cell_type": "markdown",
      "metadata": {
        "id": "view-in-github",
        "colab_type": "text"
      },
      "source": [
        "<a href=\"https://colab.research.google.com/github/Pratibhamore01/Prompt-Engineering-Class/blob/main/Homework-2.ipynb\" target=\"_parent\"><img src=\"https://colab.research.google.com/assets/colab-badge.svg\" alt=\"Open In Colab\"/></a>"
      ]
    },
    {
      "cell_type": "code",
      "execution_count": null,
      "metadata": {
        "colab": {
          "base_uri": "https://localhost:8080/"
        },
        "id": "sDURyppxMxf2",
        "outputId": "5ec1fc32-c314-4a4b-d4c1-5410cc663d89"
      },
      "outputs": [
        {
          "name": "stdout",
          "output_type": "stream",
          "text": [
            "Collecting langchain\n",
            "  Downloading langchain-0.2.14-py3-none-any.whl.metadata (7.1 kB)\n",
            "Collecting groq\n",
            "  Downloading groq-0.9.0-py3-none-any.whl.metadata (13 kB)\n",
            "Requirement already satisfied: PyYAML>=5.3 in /usr/local/lib/python3.10/dist-packages (from langchain) (6.0.2)\n",
            "Requirement already satisfied: SQLAlchemy<3,>=1.4 in /usr/local/lib/python3.10/dist-packages (from langchain) (2.0.32)\n",
            "Requirement already satisfied: aiohttp<4.0.0,>=3.8.3 in /usr/local/lib/python3.10/dist-packages (from langchain) (3.10.5)\n",
            "Requirement already satisfied: async-timeout<5.0.0,>=4.0.0 in /usr/local/lib/python3.10/dist-packages (from langchain) (4.0.3)\n",
            "Collecting langchain-core<0.3.0,>=0.2.32 (from langchain)\n",
            "  Downloading langchain_core-0.2.35-py3-none-any.whl.metadata (6.2 kB)\n",
            "Collecting langchain-text-splitters<0.3.0,>=0.2.0 (from langchain)\n",
            "  Downloading langchain_text_splitters-0.2.2-py3-none-any.whl.metadata (2.1 kB)\n",
            "Collecting langsmith<0.2.0,>=0.1.17 (from langchain)\n",
            "  Downloading langsmith-0.1.104-py3-none-any.whl.metadata (13 kB)\n",
            "Requirement already satisfied: numpy<2,>=1 in /usr/local/lib/python3.10/dist-packages (from langchain) (1.26.4)\n",
            "Requirement already satisfied: pydantic<3,>=1 in /usr/local/lib/python3.10/dist-packages (from langchain) (2.8.2)\n",
            "Requirement already satisfied: requests<3,>=2 in /usr/local/lib/python3.10/dist-packages (from langchain) (2.32.3)\n",
            "Collecting tenacity!=8.4.0,<9.0.0,>=8.1.0 (from langchain)\n",
            "  Downloading tenacity-8.5.0-py3-none-any.whl.metadata (1.2 kB)\n",
            "Requirement already satisfied: anyio<5,>=3.5.0 in /usr/local/lib/python3.10/dist-packages (from groq) (3.7.1)\n",
            "Requirement already satisfied: distro<2,>=1.7.0 in /usr/lib/python3/dist-packages (from groq) (1.7.0)\n",
            "Collecting httpx<1,>=0.23.0 (from groq)\n",
            "  Downloading httpx-0.27.0-py3-none-any.whl.metadata (7.2 kB)\n",
            "Requirement already satisfied: sniffio in /usr/local/lib/python3.10/dist-packages (from groq) (1.3.1)\n",
            "Requirement already satisfied: typing-extensions<5,>=4.7 in /usr/local/lib/python3.10/dist-packages (from groq) (4.12.2)\n",
            "Requirement already satisfied: aiohappyeyeballs>=2.3.0 in /usr/local/lib/python3.10/dist-packages (from aiohttp<4.0.0,>=3.8.3->langchain) (2.4.0)\n",
            "Requirement already satisfied: aiosignal>=1.1.2 in /usr/local/lib/python3.10/dist-packages (from aiohttp<4.0.0,>=3.8.3->langchain) (1.3.1)\n",
            "Requirement already satisfied: attrs>=17.3.0 in /usr/local/lib/python3.10/dist-packages (from aiohttp<4.0.0,>=3.8.3->langchain) (24.2.0)\n",
            "Requirement already satisfied: frozenlist>=1.1.1 in /usr/local/lib/python3.10/dist-packages (from aiohttp<4.0.0,>=3.8.3->langchain) (1.4.1)\n",
            "Requirement already satisfied: multidict<7.0,>=4.5 in /usr/local/lib/python3.10/dist-packages (from aiohttp<4.0.0,>=3.8.3->langchain) (6.0.5)\n",
            "Requirement already satisfied: yarl<2.0,>=1.0 in /usr/local/lib/python3.10/dist-packages (from aiohttp<4.0.0,>=3.8.3->langchain) (1.9.4)\n",
            "Requirement already satisfied: idna>=2.8 in /usr/local/lib/python3.10/dist-packages (from anyio<5,>=3.5.0->groq) (3.7)\n",
            "Requirement already satisfied: exceptiongroup in /usr/local/lib/python3.10/dist-packages (from anyio<5,>=3.5.0->groq) (1.2.2)\n",
            "Requirement already satisfied: certifi in /usr/local/lib/python3.10/dist-packages (from httpx<1,>=0.23.0->groq) (2024.7.4)\n",
            "Collecting httpcore==1.* (from httpx<1,>=0.23.0->groq)\n",
            "  Downloading httpcore-1.0.5-py3-none-any.whl.metadata (20 kB)\n",
            "Collecting h11<0.15,>=0.13 (from httpcore==1.*->httpx<1,>=0.23.0->groq)\n",
            "  Downloading h11-0.14.0-py3-none-any.whl.metadata (8.2 kB)\n",
            "Collecting jsonpatch<2.0,>=1.33 (from langchain-core<0.3.0,>=0.2.32->langchain)\n",
            "  Downloading jsonpatch-1.33-py2.py3-none-any.whl.metadata (3.0 kB)\n",
            "Requirement already satisfied: packaging<25,>=23.2 in /usr/local/lib/python3.10/dist-packages (from langchain-core<0.3.0,>=0.2.32->langchain) (24.1)\n",
            "Collecting orjson<4.0.0,>=3.9.14 (from langsmith<0.2.0,>=0.1.17->langchain)\n",
            "  Downloading orjson-3.10.7-cp310-cp310-manylinux_2_17_x86_64.manylinux2014_x86_64.whl.metadata (50 kB)\n",
            "\u001b[2K     \u001b[90m━━━━━━━━━━━━━━━━━━━━━━━━━━━━━━━━━━━━━━━━\u001b[0m \u001b[32m50.4/50.4 kB\u001b[0m \u001b[31m934.8 kB/s\u001b[0m eta \u001b[36m0:00:00\u001b[0m\n",
            "\u001b[?25hRequirement already satisfied: annotated-types>=0.4.0 in /usr/local/lib/python3.10/dist-packages (from pydantic<3,>=1->langchain) (0.7.0)\n",
            "Requirement already satisfied: pydantic-core==2.20.1 in /usr/local/lib/python3.10/dist-packages (from pydantic<3,>=1->langchain) (2.20.1)\n",
            "Requirement already satisfied: charset-normalizer<4,>=2 in /usr/local/lib/python3.10/dist-packages (from requests<3,>=2->langchain) (3.3.2)\n",
            "Requirement already satisfied: urllib3<3,>=1.21.1 in /usr/local/lib/python3.10/dist-packages (from requests<3,>=2->langchain) (2.0.7)\n",
            "Requirement already satisfied: greenlet!=0.4.17 in /usr/local/lib/python3.10/dist-packages (from SQLAlchemy<3,>=1.4->langchain) (3.0.3)\n",
            "Collecting jsonpointer>=1.9 (from jsonpatch<2.0,>=1.33->langchain-core<0.3.0,>=0.2.32->langchain)\n",
            "  Downloading jsonpointer-3.0.0-py2.py3-none-any.whl.metadata (2.3 kB)\n",
            "Downloading langchain-0.2.14-py3-none-any.whl (997 kB)\n",
            "\u001b[2K   \u001b[90m━━━━━━━━━━━━━━━━━━━━━━━━━━━━━━━━━━━━━━━━\u001b[0m \u001b[32m997.8/997.8 kB\u001b[0m \u001b[31m38.5 MB/s\u001b[0m eta \u001b[36m0:00:00\u001b[0m\n",
            "\u001b[?25hDownloading groq-0.9.0-py3-none-any.whl (103 kB)\n",
            "\u001b[2K   \u001b[90m━━━━━━━━━━━━━━━━━━━━━━━━━━━━━━━━━━━━━━━━\u001b[0m \u001b[32m103.5/103.5 kB\u001b[0m \u001b[31m7.0 MB/s\u001b[0m eta \u001b[36m0:00:00\u001b[0m\n",
            "\u001b[?25hDownloading httpx-0.27.0-py3-none-any.whl (75 kB)\n",
            "\u001b[2K   \u001b[90m━━━━━━━━━━━━━━━━━━━━━━━━━━━━━━━━━━━━━━━━\u001b[0m \u001b[32m75.6/75.6 kB\u001b[0m \u001b[31m5.5 MB/s\u001b[0m eta \u001b[36m0:00:00\u001b[0m\n",
            "\u001b[?25hDownloading httpcore-1.0.5-py3-none-any.whl (77 kB)\n",
            "\u001b[2K   \u001b[90m━━━━━━━━━━━━━━━━━━━━━━━━━━━━━━━━━━━━━━━━\u001b[0m \u001b[32m77.9/77.9 kB\u001b[0m \u001b[31m5.2 MB/s\u001b[0m eta \u001b[36m0:00:00\u001b[0m\n",
            "\u001b[?25hDownloading langchain_core-0.2.35-py3-none-any.whl (394 kB)\n",
            "\u001b[2K   \u001b[90m━━━━━━━━━━━━━━━━━━━━━━━━━━━━━━━━━━━━━━━━\u001b[0m \u001b[32m394.9/394.9 kB\u001b[0m \u001b[31m24.2 MB/s\u001b[0m eta \u001b[36m0:00:00\u001b[0m\n",
            "\u001b[?25hDownloading langchain_text_splitters-0.2.2-py3-none-any.whl (25 kB)\n",
            "Downloading langsmith-0.1.104-py3-none-any.whl (149 kB)\n",
            "\u001b[2K   \u001b[90m━━━━━━━━━━━━━━━━━━━━━━━━━━━━━━━━━━━━━━━━\u001b[0m \u001b[32m149.1/149.1 kB\u001b[0m \u001b[31m9.9 MB/s\u001b[0m eta \u001b[36m0:00:00\u001b[0m\n",
            "\u001b[?25hDownloading tenacity-8.5.0-py3-none-any.whl (28 kB)\n",
            "Downloading jsonpatch-1.33-py2.py3-none-any.whl (12 kB)\n",
            "Downloading orjson-3.10.7-cp310-cp310-manylinux_2_17_x86_64.manylinux2014_x86_64.whl (141 kB)\n",
            "\u001b[2K   \u001b[90m━━━━━━━━━━━━━━━━━━━━━━━━━━━━━━━━━━━━━━━━\u001b[0m \u001b[32m141.9/141.9 kB\u001b[0m \u001b[31m10.3 MB/s\u001b[0m eta \u001b[36m0:00:00\u001b[0m\n",
            "\u001b[?25hDownloading h11-0.14.0-py3-none-any.whl (58 kB)\n",
            "\u001b[2K   \u001b[90m━━━━━━━━━━━━━━━━━━━━━━━━━━━━━━━━━━━━━━━━\u001b[0m \u001b[32m58.3/58.3 kB\u001b[0m \u001b[31m3.9 MB/s\u001b[0m eta \u001b[36m0:00:00\u001b[0m\n",
            "\u001b[?25hDownloading jsonpointer-3.0.0-py2.py3-none-any.whl (7.6 kB)\n",
            "Installing collected packages: tenacity, orjson, jsonpointer, h11, jsonpatch, httpcore, httpx, langsmith, groq, langchain-core, langchain-text-splitters, langchain\n",
            "  Attempting uninstall: tenacity\n",
            "    Found existing installation: tenacity 9.0.0\n",
            "    Uninstalling tenacity-9.0.0:\n",
            "      Successfully uninstalled tenacity-9.0.0\n",
            "Successfully installed groq-0.9.0 h11-0.14.0 httpcore-1.0.5 httpx-0.27.0 jsonpatch-1.33 jsonpointer-3.0.0 langchain-0.2.14 langchain-core-0.2.35 langchain-text-splitters-0.2.2 langsmith-0.1.104 orjson-3.10.7 tenacity-8.5.0\n",
            "Collecting langchain-groq\n",
            "  Downloading langchain_groq-0.1.9-py3-none-any.whl.metadata (2.9 kB)\n",
            "Requirement already satisfied: groq in /usr/local/lib/python3.10/dist-packages (0.9.0)\n",
            "Requirement already satisfied: langchain-core<0.3.0,>=0.2.26 in /usr/local/lib/python3.10/dist-packages (from langchain-groq) (0.2.35)\n",
            "Requirement already satisfied: anyio<5,>=3.5.0 in /usr/local/lib/python3.10/dist-packages (from groq) (3.7.1)\n",
            "Requirement already satisfied: distro<2,>=1.7.0 in /usr/lib/python3/dist-packages (from groq) (1.7.0)\n",
            "Requirement already satisfied: httpx<1,>=0.23.0 in /usr/local/lib/python3.10/dist-packages (from groq) (0.27.0)\n",
            "Requirement already satisfied: pydantic<3,>=1.9.0 in /usr/local/lib/python3.10/dist-packages (from groq) (2.8.2)\n",
            "Requirement already satisfied: sniffio in /usr/local/lib/python3.10/dist-packages (from groq) (1.3.1)\n",
            "Requirement already satisfied: typing-extensions<5,>=4.7 in /usr/local/lib/python3.10/dist-packages (from groq) (4.12.2)\n",
            "Requirement already satisfied: idna>=2.8 in /usr/local/lib/python3.10/dist-packages (from anyio<5,>=3.5.0->groq) (3.7)\n",
            "Requirement already satisfied: exceptiongroup in /usr/local/lib/python3.10/dist-packages (from anyio<5,>=3.5.0->groq) (1.2.2)\n",
            "Requirement already satisfied: certifi in /usr/local/lib/python3.10/dist-packages (from httpx<1,>=0.23.0->groq) (2024.7.4)\n",
            "Requirement already satisfied: httpcore==1.* in /usr/local/lib/python3.10/dist-packages (from httpx<1,>=0.23.0->groq) (1.0.5)\n",
            "Requirement already satisfied: h11<0.15,>=0.13 in /usr/local/lib/python3.10/dist-packages (from httpcore==1.*->httpx<1,>=0.23.0->groq) (0.14.0)\n",
            "Requirement already satisfied: PyYAML>=5.3 in /usr/local/lib/python3.10/dist-packages (from langchain-core<0.3.0,>=0.2.26->langchain-groq) (6.0.2)\n",
            "Requirement already satisfied: jsonpatch<2.0,>=1.33 in /usr/local/lib/python3.10/dist-packages (from langchain-core<0.3.0,>=0.2.26->langchain-groq) (1.33)\n",
            "Requirement already satisfied: langsmith<0.2.0,>=0.1.75 in /usr/local/lib/python3.10/dist-packages (from langchain-core<0.3.0,>=0.2.26->langchain-groq) (0.1.104)\n",
            "Requirement already satisfied: packaging<25,>=23.2 in /usr/local/lib/python3.10/dist-packages (from langchain-core<0.3.0,>=0.2.26->langchain-groq) (24.1)\n",
            "Requirement already satisfied: tenacity!=8.4.0,<9.0.0,>=8.1.0 in /usr/local/lib/python3.10/dist-packages (from langchain-core<0.3.0,>=0.2.26->langchain-groq) (8.5.0)\n",
            "Requirement already satisfied: annotated-types>=0.4.0 in /usr/local/lib/python3.10/dist-packages (from pydantic<3,>=1.9.0->groq) (0.7.0)\n",
            "Requirement already satisfied: pydantic-core==2.20.1 in /usr/local/lib/python3.10/dist-packages (from pydantic<3,>=1.9.0->groq) (2.20.1)\n",
            "Requirement already satisfied: jsonpointer>=1.9 in /usr/local/lib/python3.10/dist-packages (from jsonpatch<2.0,>=1.33->langchain-core<0.3.0,>=0.2.26->langchain-groq) (3.0.0)\n",
            "Requirement already satisfied: orjson<4.0.0,>=3.9.14 in /usr/local/lib/python3.10/dist-packages (from langsmith<0.2.0,>=0.1.75->langchain-core<0.3.0,>=0.2.26->langchain-groq) (3.10.7)\n",
            "Requirement already satisfied: requests<3,>=2 in /usr/local/lib/python3.10/dist-packages (from langsmith<0.2.0,>=0.1.75->langchain-core<0.3.0,>=0.2.26->langchain-groq) (2.32.3)\n",
            "Requirement already satisfied: charset-normalizer<4,>=2 in /usr/local/lib/python3.10/dist-packages (from requests<3,>=2->langsmith<0.2.0,>=0.1.75->langchain-core<0.3.0,>=0.2.26->langchain-groq) (3.3.2)\n",
            "Requirement already satisfied: urllib3<3,>=1.21.1 in /usr/local/lib/python3.10/dist-packages (from requests<3,>=2->langsmith<0.2.0,>=0.1.75->langchain-core<0.3.0,>=0.2.26->langchain-groq) (2.0.7)\n",
            "Downloading langchain_groq-0.1.9-py3-none-any.whl (14 kB)\n",
            "Installing collected packages: langchain-groq\n",
            "Successfully installed langchain-groq-0.1.9\n"
          ]
        }
      ],
      "source": [
        "!pip install langchain groq\n",
        "!pip install langchain-groq groq"
      ]
    },
    {
      "cell_type": "code",
      "execution_count": null,
      "metadata": {
        "colab": {
          "base_uri": "https://localhost:8080/"
        },
        "id": "NtTsVkmjM0Ta",
        "outputId": "9861ac40-ab44-4570-dacb-fc7b92cdb5f2"
      },
      "outputs": [
        {
          "name": "stderr",
          "output_type": "stream",
          "text": [
            "/usr/local/lib/python3.10/dist-packages/langchain_core/_api/deprecation.py:151: LangChainDeprecationWarning: The class `LLMChain` was deprecated in LangChain 0.1.17 and will be removed in 1.0. Use RunnableSequence, e.g., `prompt | llm` instead.\n",
            "  warn_deprecated(\n",
            "/usr/local/lib/python3.10/dist-packages/langchain_core/_api/deprecation.py:151: LangChainDeprecationWarning: The method `Chain.run` was deprecated in langchain 0.1.0 and will be removed in 1.0. Use invoke instead.\n",
            "  warn_deprecated(\n"
          ]
        },
        {
          "name": "stdout",
          "output_type": "stream",
          "text": [
            "Response: Let's solve this problem step by step:\n",
            "\n",
            "1. We know that the baker has 150 eggs and wants to make an equal number of cakes and cookies.\n",
            "2. Each cake requires 3 eggs and each cookie requires 2 eggs.\n",
            "3. To find the number of cakes and cookies that can be made, we first need to determine the greatest common divisor (GCD) of the number of eggs required for one cake (3) and one cookie (2). The GCD is the largest number that can divide both numbers without leaving a remainder.\n",
            "4. We can find the GCD using the Euclidean algorithm:\n",
            "   - Divide the larger number (3) by the smaller number (2): 3 ÷ 2 = 1 with a remainder of 1.\n",
            "   - Replace the larger number (3) with the smaller number (2), and the smaller number (2) with the remainder (1): 2, 1.\n",
            "   - Repeat the process: 2 ÷ 1 = 2 with no remainder. Since there's no remainder, the last divisor (2) is the GCD.\n",
            "5. Now we know that the GCD of 3 and 2 is 1. This means that the baker can make a number of cakes and cookies that is a multiple of 1 (in other words, any positive integer).\n",
            "6. However, to make an equal number of cakes and cookies, we need to find a number that is divisible by both 3 and 2. The smallest such number is their least common multiple (LCM).\n",
            "7. We can find the LCM by multiplying the original numbers (3 and 2): 3 × 2 = 6.\n",
            "8. So, the baker can make an equal number of cakes and cookies by dividing the total number of eggs (150) by the LCM (6): 150 ÷ 6 ≈ 25.\n",
            "\n",
            "The answer is that the baker can make 25 cakes and 25 cookies using all the eggs.\n"
          ]
        }
      ],
      "source": [
        "\n",
        "from langchain_groq import ChatGroq\n",
        "from langchain.chains import LLMChain\n",
        "from langchain.prompts import ChatPromptTemplate # Import ChatPromptTemplate\n",
        "from langchain_core.messages import HumanMessage, SystemMessage\n",
        "import os\n",
        "\n",
        "# Set your Groq API key\n",
        "os.environ[\"GROQ_API_KEY\"] = \"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\"\n",
        "\n",
        "# Initialize the Groq LLM\n",
        "llm = ChatGroq(model_name=\"mixtral-8x7b-32768\")\n",
        "\n",
        "# Example of a prompt without answers\n",
        "example = \"\"\"\n",
        "Question:A baker has 150 eggs. If each cake requires 3 eggs and each cookie requires 2 eggs, how many cakes and cookies can the baker make if they want to use all the eggs and make an equal number of each?\n",
        "\"\"\"\n",
        "\n",
        "# Create a HumanMessage with the example\n",
        "human_message = HumanMessage(content=example)\n",
        "\n",
        "# Create a SystemMessage to set the context\n",
        "system_message = SystemMessage(content=\"You are a helpful assistant. Solve the following problems step by step.\")\n",
        "\n",
        "# Combine the messages into a prompt template\n",
        "prompt_template = ChatPromptTemplate.from_messages([system_message, human_message]) # Use ChatPromptTemplate\n",
        "\n",
        "# Initialize the LLMChain with the prompt and the LLM\n",
        "chain = LLMChain(llm=llm, prompt=prompt_template)\n",
        "\n",
        "# Run the chain with an empty input since the prompt template includes everything needed\n",
        "response = chain.run({})\n",
        "\n",
        "print(f\"Response: {response}\")"
      ]
    },
    {
      "cell_type": "code",
      "execution_count": null,
      "metadata": {
        "colab": {
          "base_uri": "https://localhost:8080/"
        },
        "id": "Xh0W35KWNPYh",
        "outputId": "af2a24d3-957b-4f32-dc8e-5e817cd35dd7"
      },
      "outputs": [
        {
          "name": "stdout",
          "output_type": "stream",
          "text": [
            "\n",
            "\n",
            "\u001b[1m> Entering new SimpleSequentialChain chain...\u001b[0m\n",
            "\u001b[36;1m\u001b[1;3mArtificial Intelligence (AI) refers to the simulation of human intelligence in machines that are programmed to think and learn like humans. AI can be categorized as either weak or strong. Weak AI, also known as narrow AI, is an AI system that is designed and trained for a particular task. Virtual personal assistants, such as Apple's Siri, are a common example of weak AI. Strong AI, also known as artificial general intelligence, is an AI system with generalized human cognitive abilities. When presented with an unfamiliar task, a strong AI system is able to find a solution without human intervention.\n",
            "\n",
            "AI can be further broken down into subfields, including machine learning, deep learning, natural language processing, and robotics. Machine learning is a method of data analysis that automates analytical model building. It is a branch of AI based on the idea that systems can learn from data, identify patterns and make decisions with minimal human intervention. Deep learning is a subset of machine learning that is based on artificial neural networks with representation learning.\n",
            "\n",
            "AI has the potential to revolutionize many aspects of our lives, from healthcare to transportation to entertainment. However, it also raises important ethical and societal questions, such as the potential for job displacement and the need for regulations to ensure AI is used responsibly. As AI continues to evolve, it is crucial that we understand its capabilities and limitations, and consider the implications for individuals, organizations, and society as a whole.\u001b[0m\n",
            "\u001b[33;1m\u001b[1;3m1. Capabilities and limitations of weak and strong AI: While weak AI is currently the most prevalent form of AI and can be very effective at performing specific tasks, it lacks the ability to understand or learn beyond its programming. Strong AI, on the other hand, has the potential to truly mimic human intelligence and adapt to new situations, but it is still largely theoretical and faces significant challenges in terms of development and implementation.\n",
            "2. The role of machine learning and deep learning in AI: Machine learning and deep learning are key methods for developing AI systems, allowing them to analyze data, identify patterns, and make decisions with minimal human intervention. Understanding the differences between these approaches and how they can be applied to different problems is crucial for maximizing the potential of AI.\n",
            "3. Ethical and societal implications of AI: As AI becomes more prevalent and capable, it raises important ethical and societal questions, such as the potential for job displacement, bias in AI algorithms, and the need for regulations to ensure AI is used responsibly. It is essential that these issues are addressed proactively to ensure that the benefits of AI are realized while minimizing potential negative impacts.\u001b[0m\n",
            "\u001b[38;5;200m\u001b[1;3m1. Capabilities and limitations of weak and strong AI:\n",
            "\n",
            "Weak AI, also known as narrow AI, is designed to perform specific tasks, such as voice recognition or image analysis. It operates within a predefined range of functions and cannot understand or learn anything outside its programming. Weak AI is widely used in various applications, including virtual personal assistants, recommendation systems, and self-driving cars.\n",
            "\n",
            "Strong AI, or artificial general intelligence (AGI), aims to replicate human intelligence across a broad range of tasks and adapt to new situations. Strong AI systems can independently understand, learn, and make decisions like a human. However, developing and implementing AGI faces significant challenges due to the complexity of human intelligence and the need for advanced algorithms, computational power, and data.\n",
            "\n",
            "2. The role of machine learning and deep learning in AI:\n",
            "\n",
            "Machine learning (ML) is a method of data analysis that enables AI systems to improve their performance on a specific task without explicit programming. ML algorithms can identify patterns and make predictions or decisions by processing large amounts of data. Common ML techniques include supervised learning, unsupervised learning, and reinforcement learning.\n",
            "\n",
            "Deep learning (DL) is a subset of machine learning that uses artificial neural networks (ANNs) with many layers to learn and represent data. DL models can automatically extract features from raw data, enabling them to perform complex tasks such as image and speech recognition. DL has been instrumental in achieving breakthroughs in various AI applications, including natural language processing, computer vision, and autonomous driving.\n",
            "\n",
            "Understanding the differences between ML and DL is essential for selecting the appropriate technique for a given problem. ML is generally more interpretable and computationally efficient, making it suitable for tasks with limited data or computational resources. DL, on the other hand, requires large datasets and computational power but can achieve superior performance in handling complex tasks with unstructured data.\n",
            "\n",
            "3. Ethical and societal implications of AI:\n",
            "\n",
            "As AI becomes increasingly integrated into various aspects of society, it raises important ethical and societal issues. Some of these concerns include:\n",
            "\n",
            "- Job displacement: AI has the potential to automate many jobs, leading to job losses and increased inequality. It is essential to consider how to retrain and support workers who may be affected by AI-driven automation.\n",
            "- Bias in AI algorithms: AI systems can unintentionally perpetuate and amplify existing biases, leading to unfair outcomes. Ensuring that AI algorithms are transparent, unbiased, and accountable is crucial for addressing this issue.\n",
            "- Regulations and oversight: Developing regulations and guidelines to ensure AI is used responsibly and ethically is essential. This includes addressing issues such as data privacy, security, and transparency.\n",
            "- Public trust and understanding: Building public trust in AI and ensuring that people understand how AI works and its limitations are essential for widespread adoption and responsible use.\n",
            "\n",
            "Addressing these ethical and societal implications proactively is crucial for realizing the benefits of AI while minimizing potential negative impacts.\u001b[0m\n",
            "\n",
            "\u001b[1m> Finished chain.\u001b[0m\n",
            "1. Capabilities and limitations of weak and strong AI:\n",
            "\n",
            "Weak AI, also known as narrow AI, is designed to perform specific tasks, such as voice recognition or image analysis. It operates within a predefined range of functions and cannot understand or learn anything outside its programming. Weak AI is widely used in various applications, including virtual personal assistants, recommendation systems, and self-driving cars.\n",
            "\n",
            "Strong AI, or artificial general intelligence (AGI), aims to replicate human intelligence across a broad range of tasks and adapt to new situations. Strong AI systems can independently understand, learn, and make decisions like a human. However, developing and implementing AGI faces significant challenges due to the complexity of human intelligence and the need for advanced algorithms, computational power, and data.\n",
            "\n",
            "2. The role of machine learning and deep learning in AI:\n",
            "\n",
            "Machine learning (ML) is a method of data analysis that enables AI systems to improve their performance on a specific task without explicit programming. ML algorithms can identify patterns and make predictions or decisions by processing large amounts of data. Common ML techniques include supervised learning, unsupervised learning, and reinforcement learning.\n",
            "\n",
            "Deep learning (DL) is a subset of machine learning that uses artificial neural networks (ANNs) with many layers to learn and represent data. DL models can automatically extract features from raw data, enabling them to perform complex tasks such as image and speech recognition. DL has been instrumental in achieving breakthroughs in various AI applications, including natural language processing, computer vision, and autonomous driving.\n",
            "\n",
            "Understanding the differences between ML and DL is essential for selecting the appropriate technique for a given problem. ML is generally more interpretable and computationally efficient, making it suitable for tasks with limited data or computational resources. DL, on the other hand, requires large datasets and computational power but can achieve superior performance in handling complex tasks with unstructured data.\n",
            "\n",
            "3. Ethical and societal implications of AI:\n",
            "\n",
            "As AI becomes increasingly integrated into various aspects of society, it raises important ethical and societal issues. Some of these concerns include:\n",
            "\n",
            "- Job displacement: AI has the potential to automate many jobs, leading to job losses and increased inequality. It is essential to consider how to retrain and support workers who may be affected by AI-driven automation.\n",
            "- Bias in AI algorithms: AI systems can unintentionally perpetuate and amplify existing biases, leading to unfair outcomes. Ensuring that AI algorithms are transparent, unbiased, and accountable is crucial for addressing this issue.\n",
            "- Regulations and oversight: Developing regulations and guidelines to ensure AI is used responsibly and ethically is essential. This includes addressing issues such as data privacy, security, and transparency.\n",
            "- Public trust and understanding: Building public trust in AI and ensuring that people understand how AI works and its limitations are essential for widespread adoption and responsible use.\n",
            "\n",
            "Addressing these ethical and societal implications proactively is crucial for realizing the benefits of AI while minimizing potential negative impacts.\n"
          ]
        }
      ],
      "source": [
        "from langchain_groq import ChatGroq\n",
        "from langchain import PromptTemplate, LLMChain\n",
        "from langchain.chains import SimpleSequentialChain\n",
        "import os\n",
        "\n",
        "# Set your Groq API key\n",
        "os.environ[\"GROQ_API_KEY\"] = \"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\"\n",
        "\n",
        "# Initialize the Groq LLM\n",
        "llm = ChatGroq(model_name=\"mixtral-8x7b-32768\")\n",
        "\n",
        "# First prompt template: Write a short introduction about the topic\n",
        "first_prompt = PromptTemplate(\n",
        "    input_variables=[\"topic\"],\n",
        "    template=\"Write a short introduction about {topic}.\"\n",
        ")\n",
        "\n",
        "# Second prompt template: Suggest 3 key points based on the introduction\n",
        "second_prompt = PromptTemplate(\n",
        "    input_variables=[\"introduction\"],\n",
        "    template=\"Based on this introduction, suggest 3 key points to expand upon: {introduction}\"\n",
        ")\n",
        "\n",
        "# Third prompt template: Provide brief explanations for each of the key points\n",
        "third_prompt = PromptTemplate(\n",
        "    input_variables=[\"key_points\"],\n",
        "    template=\"For each of these key points, provide a brief explanation: {key_points}\"\n",
        ")\n",
        "# Create the chains\n",
        "chain_one = LLMChain(llm=llm, prompt=first_prompt)\n",
        "chain_two = LLMChain(llm=llm, prompt=second_prompt)\n",
        "chain_three = LLMChain(llm=llm, prompt=third_prompt)\n",
        "# Create the sequential chain to link the individual chains\n",
        "overall_chain = SimpleSequentialChain(\n",
        "    chains=[chain_one, chain_two, chain_three],\n",
        "    verbose=True\n",
        ")\n",
        "# Run the chain with a specific topic\n",
        "topic = \"Artificial Intelligence\"\n",
        "result = overall_chain.run(topic)\n",
        "# Print the final result\n",
        "print(result)"
      ]
    },
    {
      "cell_type": "code",
      "execution_count": null,
      "metadata": {
        "colab": {
          "base_uri": "https://localhost:8080/"
        },
        "id": "u5Eav6RSNgIn",
        "outputId": "8bf2c610-6446-4735-a28f-2438a0667207"
      },
      "outputs": [
        {
          "name": "stdout",
          "output_type": "stream",
          "text": [
            "To find the average speed of the train, we need to divide the total distance by the total time.\n",
            "\n",
            "1) The train travels 120 km.\n",
            "2) It takes 2 hours to travel this distance.\n",
            "3) So, we divide 120 by 2.\n",
            "4) 120 divided by 2 equals 60.\n",
            "\n",
            "Therefore, the train's average speed is 60 km/h.\n"
          ]
        }
      ],
      "source": [
        "from langchain_groq import ChatGroq\n",
        "from langchain import PromptTemplate, LLMChain\n",
        "from langchain.prompts import FewShotPromptTemplate\n",
        "import os\n",
        "\n",
        "# Set your Groq API key\n",
        "os.environ[\"GROQ_API_KEY\"] = \"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\"\n",
        "\n",
        "# Initialize the Groq LLM\n",
        "llm = ChatGroq(model_name=\"mixtral-8x7b-32768\")\n",
        "\n",
        "# Define the base prompt template\n",
        "base_prompt = PromptTemplate(\n",
        "    input_variables=[\"question\", \"thoughts\"],\n",
        "    template=\"\"\"Question: {question}\n",
        "\n",
        "Let's approach this step-by-step:\n",
        "\n",
        "{thoughts}\n",
        "\n",
        "Based on these thoughts, what is the final answer?\n",
        "\"\"\"\n",
        ")\n",
        "\n",
        "# Define examples for few-shot learning\n",
        "examples = [\n",
        "    {\n",
        "        \"question\": \"What is 15 + 27?\",\n",
        "        \"thoughts\": \"\"\"1) First, let's break down the numbers: 15 is 10 + 5, and 27 is 20 + 7.\n",
        "2) We can rearrange these: (10 + 20) + (5 + 7)\n",
        "3) 10 + 20 = 30\n",
        "4) 5 + 7 = 12\n",
        "5) So now we have 30 + 12\n",
        "6) 30 + 12 = 42\"\"\"\n",
        "    },\n",
        "    {\n",
        "        \"question\": \"How many months have 28 days?\",\n",
        "        \"thoughts\": \"\"\"1) Let's think about this carefully. At first, we might think only February has 28 days.\n",
        "2) However, the question is asking how many months HAVE 28 days, not how many ONLY have 28 days.\n",
        "3) Every month has at least 28 days.\n",
        "4) Therefore, all 12 months have at least 28 days.\"\"\"\n",
        "    }\n",
        "]\n",
        "\n",
        "# Create the few-shot prompt template\n",
        "few_shot_prompt = FewShotPromptTemplate(\n",
        "    examples=examples,\n",
        "    example_prompt=PromptTemplate(\n",
        "        input_variables=[\"question\", \"thoughts\"],\n",
        "        template=\"Question: {question}\\n\\nThoughts: {thoughts}\"\n",
        "    ),\n",
        "    prefix=\"Here are some examples of breaking down questions into steps:\",\n",
        "    suffix=\"Now, let's approach a new question:\\n\\n{input}\",\n",
        "    input_variables=[\"input\"],\n",
        "    example_separator=\"\\n\\n\"\n",
        ")\n",
        "\n",
        "# Combine the few-shot examples with the base prompt\n",
        "final_prompt = few_shot_prompt.format(\n",
        "    input=base_prompt.template\n",
        ")\n",
        "\n",
        "# Create the LLMChain\n",
        "chain = LLMChain(\n",
        "    llm=llm,\n",
        "    prompt=PromptTemplate(\n",
        "        input_variables=[\"question\", \"thoughts\"],\n",
        "        template=final_prompt\n",
        "    )\n",
        ")\n",
        "\n",
        "# Use the chain\n",
        "question = \"If a train travels 120 km in 2 hours, what is its average speed in km/h?\"\n",
        "thoughts = \"Let's break this down step by step:\"\n",
        "result = chain.run({\"question\": question, \"thoughts\": thoughts})\n",
        "\n",
        "print(result)"
      ]
    },
    {
      "cell_type": "code",
      "execution_count": null,
      "metadata": {
        "colab": {
          "base_uri": "https://localhost:8080/"
        },
        "id": "_0Fi_piSN4pR",
        "outputId": "8c4bac6d-ec61-44a0-f44b-b9fbca1a98d4"
      },
      "outputs": [
        {
          "name": "stdout",
          "output_type": "stream",
          "text": [
            "Requirement already satisfied: langchain in /usr/local/lib/python3.10/dist-packages (0.2.14)\n",
            "Requirement already satisfied: groq in /usr/local/lib/python3.10/dist-packages (0.9.0)\n",
            "Requirement already satisfied: PyYAML>=5.3 in /usr/local/lib/python3.10/dist-packages (from langchain) (6.0.2)\n",
            "Requirement already satisfied: SQLAlchemy<3,>=1.4 in /usr/local/lib/python3.10/dist-packages (from langchain) (2.0.32)\n",
            "Requirement already satisfied: aiohttp<4.0.0,>=3.8.3 in /usr/local/lib/python3.10/dist-packages (from langchain) (3.10.5)\n",
            "Requirement already satisfied: async-timeout<5.0.0,>=4.0.0 in /usr/local/lib/python3.10/dist-packages (from langchain) (4.0.3)\n",
            "Requirement already satisfied: langchain-core<0.3.0,>=0.2.32 in /usr/local/lib/python3.10/dist-packages (from langchain) (0.2.35)\n",
            "Requirement already satisfied: langchain-text-splitters<0.3.0,>=0.2.0 in /usr/local/lib/python3.10/dist-packages (from langchain) (0.2.2)\n",
            "Requirement already satisfied: langsmith<0.2.0,>=0.1.17 in /usr/local/lib/python3.10/dist-packages (from langchain) (0.1.104)\n",
            "Requirement already satisfied: numpy<2,>=1 in /usr/local/lib/python3.10/dist-packages (from langchain) (1.26.4)\n",
            "Requirement already satisfied: pydantic<3,>=1 in /usr/local/lib/python3.10/dist-packages (from langchain) (2.8.2)\n",
            "Requirement already satisfied: requests<3,>=2 in /usr/local/lib/python3.10/dist-packages (from langchain) (2.32.3)\n",
            "Requirement already satisfied: tenacity!=8.4.0,<9.0.0,>=8.1.0 in /usr/local/lib/python3.10/dist-packages (from langchain) (8.5.0)\n",
            "Requirement already satisfied: anyio<5,>=3.5.0 in /usr/local/lib/python3.10/dist-packages (from groq) (3.7.1)\n",
            "Requirement already satisfied: distro<2,>=1.7.0 in /usr/lib/python3/dist-packages (from groq) (1.7.0)\n",
            "Requirement already satisfied: httpx<1,>=0.23.0 in /usr/local/lib/python3.10/dist-packages (from groq) (0.27.0)\n",
            "Requirement already satisfied: sniffio in /usr/local/lib/python3.10/dist-packages (from groq) (1.3.1)\n",
            "Requirement already satisfied: typing-extensions<5,>=4.7 in /usr/local/lib/python3.10/dist-packages (from groq) (4.12.2)\n",
            "Requirement already satisfied: aiohappyeyeballs>=2.3.0 in /usr/local/lib/python3.10/dist-packages (from aiohttp<4.0.0,>=3.8.3->langchain) (2.4.0)\n",
            "Requirement already satisfied: aiosignal>=1.1.2 in /usr/local/lib/python3.10/dist-packages (from aiohttp<4.0.0,>=3.8.3->langchain) (1.3.1)\n",
            "Requirement already satisfied: attrs>=17.3.0 in /usr/local/lib/python3.10/dist-packages (from aiohttp<4.0.0,>=3.8.3->langchain) (24.2.0)\n",
            "Requirement already satisfied: frozenlist>=1.1.1 in /usr/local/lib/python3.10/dist-packages (from aiohttp<4.0.0,>=3.8.3->langchain) (1.4.1)\n",
            "Requirement already satisfied: multidict<7.0,>=4.5 in /usr/local/lib/python3.10/dist-packages (from aiohttp<4.0.0,>=3.8.3->langchain) (6.0.5)\n",
            "Requirement already satisfied: yarl<2.0,>=1.0 in /usr/local/lib/python3.10/dist-packages (from aiohttp<4.0.0,>=3.8.3->langchain) (1.9.4)\n",
            "Requirement already satisfied: idna>=2.8 in /usr/local/lib/python3.10/dist-packages (from anyio<5,>=3.5.0->groq) (3.7)\n",
            "Requirement already satisfied: exceptiongroup in /usr/local/lib/python3.10/dist-packages (from anyio<5,>=3.5.0->groq) (1.2.2)\n",
            "Requirement already satisfied: certifi in /usr/local/lib/python3.10/dist-packages (from httpx<1,>=0.23.0->groq) (2024.7.4)\n",
            "Requirement already satisfied: httpcore==1.* in /usr/local/lib/python3.10/dist-packages (from httpx<1,>=0.23.0->groq) (1.0.5)\n",
            "Requirement already satisfied: h11<0.15,>=0.13 in /usr/local/lib/python3.10/dist-packages (from httpcore==1.*->httpx<1,>=0.23.0->groq) (0.14.0)\n",
            "Requirement already satisfied: jsonpatch<2.0,>=1.33 in /usr/local/lib/python3.10/dist-packages (from langchain-core<0.3.0,>=0.2.32->langchain) (1.33)\n",
            "Requirement already satisfied: packaging<25,>=23.2 in /usr/local/lib/python3.10/dist-packages (from langchain-core<0.3.0,>=0.2.32->langchain) (24.1)\n",
            "Requirement already satisfied: orjson<4.0.0,>=3.9.14 in /usr/local/lib/python3.10/dist-packages (from langsmith<0.2.0,>=0.1.17->langchain) (3.10.7)\n",
            "Requirement already satisfied: annotated-types>=0.4.0 in /usr/local/lib/python3.10/dist-packages (from pydantic<3,>=1->langchain) (0.7.0)\n",
            "Requirement already satisfied: pydantic-core==2.20.1 in /usr/local/lib/python3.10/dist-packages (from pydantic<3,>=1->langchain) (2.20.1)\n",
            "Requirement already satisfied: charset-normalizer<4,>=2 in /usr/local/lib/python3.10/dist-packages (from requests<3,>=2->langchain) (3.3.2)\n",
            "Requirement already satisfied: urllib3<3,>=1.21.1 in /usr/local/lib/python3.10/dist-packages (from requests<3,>=2->langchain) (2.0.7)\n",
            "Requirement already satisfied: greenlet!=0.4.17 in /usr/local/lib/python3.10/dist-packages (from SQLAlchemy<3,>=1.4->langchain) (3.0.3)\n",
            "Requirement already satisfied: jsonpointer>=1.9 in /usr/local/lib/python3.10/dist-packages (from jsonpatch<2.0,>=1.33->langchain-core<0.3.0,>=0.2.32->langchain) (3.0.0)\n",
            "Requirement already satisfied: langchain-groq in /usr/local/lib/python3.10/dist-packages (0.1.9)\n",
            "Requirement already satisfied: groq in /usr/local/lib/python3.10/dist-packages (0.9.0)\n",
            "Requirement already satisfied: langchain-core<0.3.0,>=0.2.26 in /usr/local/lib/python3.10/dist-packages (from langchain-groq) (0.2.35)\n",
            "Requirement already satisfied: anyio<5,>=3.5.0 in /usr/local/lib/python3.10/dist-packages (from groq) (3.7.1)\n",
            "Requirement already satisfied: distro<2,>=1.7.0 in /usr/lib/python3/dist-packages (from groq) (1.7.0)\n",
            "Requirement already satisfied: httpx<1,>=0.23.0 in /usr/local/lib/python3.10/dist-packages (from groq) (0.27.0)\n",
            "Requirement already satisfied: pydantic<3,>=1.9.0 in /usr/local/lib/python3.10/dist-packages (from groq) (2.8.2)\n",
            "Requirement already satisfied: sniffio in /usr/local/lib/python3.10/dist-packages (from groq) (1.3.1)\n",
            "Requirement already satisfied: typing-extensions<5,>=4.7 in /usr/local/lib/python3.10/dist-packages (from groq) (4.12.2)\n",
            "Requirement already satisfied: idna>=2.8 in /usr/local/lib/python3.10/dist-packages (from anyio<5,>=3.5.0->groq) (3.7)\n",
            "Requirement already satisfied: exceptiongroup in /usr/local/lib/python3.10/dist-packages (from anyio<5,>=3.5.0->groq) (1.2.2)\n",
            "Requirement already satisfied: certifi in /usr/local/lib/python3.10/dist-packages (from httpx<1,>=0.23.0->groq) (2024.7.4)\n",
            "Requirement already satisfied: httpcore==1.* in /usr/local/lib/python3.10/dist-packages (from httpx<1,>=0.23.0->groq) (1.0.5)\n",
            "Requirement already satisfied: h11<0.15,>=0.13 in /usr/local/lib/python3.10/dist-packages (from httpcore==1.*->httpx<1,>=0.23.0->groq) (0.14.0)\n",
            "Requirement already satisfied: PyYAML>=5.3 in /usr/local/lib/python3.10/dist-packages (from langchain-core<0.3.0,>=0.2.26->langchain-groq) (6.0.2)\n",
            "Requirement already satisfied: jsonpatch<2.0,>=1.33 in /usr/local/lib/python3.10/dist-packages (from langchain-core<0.3.0,>=0.2.26->langchain-groq) (1.33)\n",
            "Requirement already satisfied: langsmith<0.2.0,>=0.1.75 in /usr/local/lib/python3.10/dist-packages (from langchain-core<0.3.0,>=0.2.26->langchain-groq) (0.1.104)\n",
            "Requirement already satisfied: packaging<25,>=23.2 in /usr/local/lib/python3.10/dist-packages (from langchain-core<0.3.0,>=0.2.26->langchain-groq) (24.1)\n",
            "Requirement already satisfied: tenacity!=8.4.0,<9.0.0,>=8.1.0 in /usr/local/lib/python3.10/dist-packages (from langchain-core<0.3.0,>=0.2.26->langchain-groq) (8.5.0)\n",
            "Requirement already satisfied: annotated-types>=0.4.0 in /usr/local/lib/python3.10/dist-packages (from pydantic<3,>=1.9.0->groq) (0.7.0)\n",
            "Requirement already satisfied: pydantic-core==2.20.1 in /usr/local/lib/python3.10/dist-packages (from pydantic<3,>=1.9.0->groq) (2.20.1)\n",
            "Requirement already satisfied: jsonpointer>=1.9 in /usr/local/lib/python3.10/dist-packages (from jsonpatch<2.0,>=1.33->langchain-core<0.3.0,>=0.2.26->langchain-groq) (3.0.0)\n",
            "Requirement already satisfied: orjson<4.0.0,>=3.9.14 in /usr/local/lib/python3.10/dist-packages (from langsmith<0.2.0,>=0.1.75->langchain-core<0.3.0,>=0.2.26->langchain-groq) (3.10.7)\n",
            "Requirement already satisfied: requests<3,>=2 in /usr/local/lib/python3.10/dist-packages (from langsmith<0.2.0,>=0.1.75->langchain-core<0.3.0,>=0.2.26->langchain-groq) (2.32.3)\n",
            "Requirement already satisfied: charset-normalizer<4,>=2 in /usr/local/lib/python3.10/dist-packages (from requests<3,>=2->langsmith<0.2.0,>=0.1.75->langchain-core<0.3.0,>=0.2.26->langchain-groq) (3.3.2)\n",
            "Requirement already satisfied: urllib3<3,>=1.21.1 in /usr/local/lib/python3.10/dist-packages (from requests<3,>=2->langsmith<0.2.0,>=0.1.75->langchain-core<0.3.0,>=0.2.26->langchain-groq) (2.0.7)\n"
          ]
        }
      ],
      "source": [
        "!pip install langchain groq\n",
        "!pip install langchain-groq groq\n"
      ]
    },
    {
      "cell_type": "code",
      "execution_count": null,
      "metadata": {
        "colab": {
          "base_uri": "https://localhost:8080/"
        },
        "id": "bgmSZjwTOH-B",
        "outputId": "1fdecfa6-9ef4-404b-9c03-2238819bc13f"
      },
      "outputs": [
        {
          "name": "stdout",
          "output_type": "stream",
          "text": [
            "Explanation of time travel:\n",
            "Time travel is the idea of moving between different points in time, just like you can move between different places in space. For example, you can travel from your home to school, going forward in space. With time travel, you could go back to yesterday or forward to tomorrow, going back or forward in time.\n",
            "\n",
            "It's important to note that time travel is currently just a concept in science fiction and hasn't been proven possible in real life. There are many theories about how time travel might work, but none have been proven or practically achieved.\n",
            "\n",
            "One common theory is that if you could travel at the speed of light, you might be able to experience time differently. According to Einstein's theory of relativity, as you approach the speed of light, time slows down for you relative to a stationary observer. So, if you could travel at the speed of light, you could effectively \"freeze\" time and travel into the future. However, reaching the speed of light is currently beyond our technological capabilities.\n",
            "\n",
            "Another theory involves manipulating the fabric of spacetime itself, as described by general relativity. Wormholes, for instance, are theoretical passages through spacetime that could potentially connect two different points in time. However, the existence and stability of wormholes are still purely speculative.\n",
            "\n",
            "In summary, time travel is the concept of moving between different moments in time, but it remains a theoretical idea without practical application or proof of its possibility.\n"
          ]
        }
      ],
      "source": [
        "from langchain_groq import ChatGroq\n",
        "from langchain.prompts import PromptTemplate\n",
        "from langchain.chains import LLMChain\n",
        "import os\n",
        "\n",
        "# Set your Groq API key\n",
        "os.environ[\"GROQ_API_KEY\"] = \"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\"\n",
        "\n",
        "# Initialize the Groq LLM\n",
        "llm = ChatGroq(model_name=\"mixtral-8x7b-32768\")\n",
        "\n",
        "# Define a prompt template\n",
        "prompt_template = PromptTemplate(\n",
        "    input_variables=[\"topic\"],\n",
        "    template=\"Explain the concept of {topic} in simple terms a high school student can understand.\"\n",
        ")\n",
        "\n",
        "# Create an LLMChain\n",
        "chain = LLMChain(llm=llm, prompt=prompt_template)\n",
        "\n",
        "# Use the chain to generate a response\n",
        "topic = \"time travel\"\n",
        "response = chain.run(topic)\n",
        "\n",
        "print(f\"Explanation of {topic}:\")\n",
        "print(response)"
      ]
    },
    {
      "cell_type": "code",
      "execution_count": null,
      "metadata": {
        "colab": {
          "base_uri": "https://localhost:8080/"
        },
        "id": "ah2Y-R_dOlk2",
        "outputId": "f3a2d56b-a199-4736-b870-bd4e7c02eb78"
      },
      "outputs": [
        {
          "name": "stdout",
          "output_type": "stream",
          "text": [
            "Sure, I'd be happy to help! Here's a short story about India that I hope a high school student can understand:\n",
            "\n",
            "Once upon a time, there was a beautiful and diverse country called India. India was located in South Asia and was known for its rich history, vibrant culture, and delicious food.\n",
            "\n",
            "India was home to many different people, each with their own unique traditions and languages. Hindi and English were the two most commonly spoken languages, but there were over 19,500 languages and dialects spoken in India!\n",
            "\n",
            "One of the most famous landmarks in India was the Taj Mahal, a beautiful white marble mausoleum built by Mughal Emperor Shah Jahan in memory of his wife, Mumtaz Mahal. The Taj Mahal was considered one of the seven wonders of the world and attracted tourists from all over the globe.\n",
            "\n",
            "Indian cuisine was also famous worldwide, with its spicy curries, flavorful biryanis, and sweet desserts. Indian food varied from region to region, with each state having its own specialty dishes.\n",
            "\n",
            "India was also known for its festivals, which were celebrated with much pomp and show. Diwali, the festival of lights, Holi, the festival of colors, and Eid, the festival of breaking the fast, were some of the most popular festivals celebrated in India.\n",
            "\n",
            "Despite its beauty and diversity, India faced many challenges. Poverty, corruption, and pollution were some of the issues that plagued the country. However, the people of India were resilient and worked together to find solutions to these problems.\n",
            "\n",
            "In recent years, India had made great strides in technology and innovation. It was home to some of the world's biggest tech companies and had become a hub for startups and entrepreneurs.\n",
            "\n",
            "In conclusion, India was a country full of diversity, culture, and history. It was a place where people of different backgrounds and beliefs lived together in harmony. Despite its challenges, India was a country that was full of potential and hope for the future.\n"
          ]
        }
      ],
      "source": [
        "prompt = \"Write a short story about India.\"\n",
        "\n",
        "# Run the prompt using the established connection\n",
        "response = chain.run(prompt)\n",
        "print(response)\n"
      ]
    },
    {
      "cell_type": "code",
      "execution_count": null,
      "metadata": {
        "colab": {
          "base_uri": "https://localhost:8080/"
        },
        "id": "baUhcIObOrl6",
        "outputId": "c6904bc6-8d03-46d6-b4ca-92cc93c019fd"
      },
      "outputs": [
        {
          "name": "stdout",
          "output_type": "stream",
          "text": [
            "Once upon a time, in the western part of India, there was a beautiful and diverse region known as Maharashtra. This vast land was home to rolling hills, lush green forests, and sparkling rivers. It was a place where many different cultures, languages, and traditions came together to create a unique and vibrant society.\n",
            "\n",
            "At the heart of Maharashtra was its bustling capital city, Mumbai. Once a collection of small fishing villages, Mumbai had grown into a thriving metropolis, filled with towering skyscrapers, ancient temples, and bustling markets. It was a city of dreams, where people from all over India came to seek their fortune and build a better life for themselves and their families.\n",
            "\n",
            "But Maharashtra was more than just its cities and urban centers. The region was also known for its beautiful countryside, where farmers worked the land and tended to their crops. From the fertile fields of the Konkan coast to the arid plains of the Marathwada region, Maharashtra was a land of hardworking and resilient people.\n",
            "\n",
            "Despite its many natural and cultural wonders, Maharashtra was not without its challenges. The region was prone to droughts and floods, and many of its people lived in poverty. But despite these hardships, the people of Maharashtra were known for their spirit and determination. They worked together to overcome adversity and build a better future for themselves and their communities.\n",
            "\n",
            "At the heart of Maharashtrian culture was a deep respect for tradition and a love of the arts. From the classical music of the Hindustani tradition to the colorful festivals that marked the changing seasons, Maharashtra was a place of beauty and joy. Whether it was the rhythmic beat of the dhol drum or the delicate strokes of the brush on a canvas, the people of Maharashtra found expression and solace in their rich cultural heritage.\n",
            "\n",
            "In the end, Maharashtra was a place of contrasts and diversity, where the modern and the traditional came together to create something new and unique. It was a region of beauty, of hardship, of resilience, and of hope. And at its heart, it was a land of people who were proud of their heritage and determined to build a better future for themselves and their communities.\n"
          ]
        }
      ],
      "source": [
        "prompt = \"Write a short story about Maharashtra\"\n",
        "\n",
        "# Run the prompt using the established connection\n",
        "response = chain.run(prompt)\n",
        "print(response)\n"
      ]
    },
    {
      "cell_type": "code",
      "execution_count": null,
      "metadata": {
        "colab": {
          "background_save": true,
          "base_uri": "https://localhost:8080/"
        },
        "id": "KGRgD9yOO--3",
        "outputId": "5ca36b9b-7e54-4c17-c5f8-45fce410f3ab"
      },
      "outputs": [
        {
          "ename": "SyntaxError",
          "evalue": "unterminated string literal (detected at line 3) (<ipython-input-11-fa391742b059>, line 3)",
          "output_type": "error",
          "traceback": [
            "\u001b[0;36m  File \u001b[0;32m\"<ipython-input-11-fa391742b059>\"\u001b[0;36m, line \u001b[0;32m3\u001b[0m\n\u001b[0;31m    \"\"Nice place to stay, timely breakfast, dinner,quick service hot water wifi health club and located in the heart of pune city.\", \"classification\": \"Positive\",\u001b[0m\n\u001b[0m                                                                                                                                                                ^\u001b[0m\n\u001b[0;31mSyntaxError\u001b[0m\u001b[0;31m:\u001b[0m unterminated string literal (detected at line 3)\n"
          ]
        }
      ],
      "source": [
        "# Example restaurant reviews\n",
        "examples = [\n",
        "    \"\"Nice place to stay, timely breakfast, dinner,quick service hot water wifi health club and located in the heart of pune city.\", \"classification\": \"Positive\"},\n",
        "     \"On main road and easily accessible to Pune city. Lacks a bit in cleanliness. Rest is good, service is also fine.\", \"classification\": \"Meh!\"},\n",
        "     \"The hotel is extremely dirty and poorly managed.The hotel seriously needs to evaluate options for improving general cleanliness.\", \"classification\": \"Negative\"},\n",
        "    {\"review\": \"Room service is good but room was not clean properly! The staff was very polite. Food taste was good.\", \"classification\": \"Meh!\"},\n",
        "    {\"review\": \"good experience n staff also very much cooperative and location is also good food quality is good... service is extremely good\", \"classification\": \"Positive\"}\n",
        "]\n",
        "\n",
        "# Construct the few-shot prompt\n",
        "few_shot_prompt = \"\\n\".join(examples) + \"\\nClassify the following review: The pizza was delicious, and the staff was friendly.\"\n",
        "\n",
        "# Run the few-shot prompt using the established connection\n",
        "response = chain.run(few_shot_prompt)\n",
        "print(response)"
      ]
    },
    {
      "cell_type": "code",
      "execution_count": null,
      "metadata": {
        "colab": {
          "base_uri": "https://localhost:8080/"
        },
        "id": "Cx1YLmiWPFEe",
        "outputId": "79d2c93c-7652-468f-fced-a03edbe0c963"
      },
      "outputs": [
        {
          "name": "stdout",
          "output_type": "stream",
          "text": [
            "This joke is a play on words, where \"two-tired\" sounds like \"tired\" but actually means \"having two tires.\" The joke is that the bicycle fell over because it had too many tires, which is not true for a regular bicycle, as it only has two tires. The punchline is a pun, which is a type of joke that uses a play on words.\n"
          ]
        }
      ],
      "source": [
        "# Example jokes\n",
        "examples = [\n",
        "    \"Why don't scientists trust atoms? Because they make up everything! -> Good\",\n",
        "    \"I told my wife she was drawing her eyebrows too high. She looked surprised. -> Good\",\n",
        "    \"What do you call fake spaghetti? An impasta. -> Meh!\",\n",
        "    \"Why did the scarecrow win an award? Because he was outstanding in his field. -> Good\",\n",
        "    \"I used to play piano by ear, but now I use my hands. -> Bad\"\n",
        "]\n",
        "\n",
        "# Construct the few-shot prompt\n",
        "few_shot_prompt = \"\\n\".join(examples) + \"\\nClassify the following joke: Why did the bicycle fall over? Because it was two-tired.\"\n",
        "\n",
        "# Run the few-shot prompt using the established connection\n",
        "response = chain.run(few_shot_prompt)\n",
        "print(response)"
      ]
    },
    {
      "cell_type": "code",
      "execution_count": null,
      "metadata": {
        "id": "znmCF_DuPaCw"
      },
      "outputs": [],
      "source": []
    }
  ],
  "metadata": {
    "colab": {
      "provenance": [],
      "authorship_tag": "ABX9TyNxs70yRm9xaC/JrRyg9s2j",
      "include_colab_link": true
    },
    "kernelspec": {
      "display_name": "Python 3",
      "name": "python3"
    },
    "language_info": {
      "name": "python"
    }
  },
  "nbformat": 4,
  "nbformat_minor": 0
}